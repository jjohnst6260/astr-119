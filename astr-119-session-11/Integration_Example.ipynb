{
 "cells": [
  {
   "cell_type": "markdown",
   "metadata": {},
   "source": [
    "## Integration: Trapezoidal, Simpson's Rule, Romberg"
   ]
  },
  {
   "cell_type": "code",
   "execution_count": null,
   "metadata": {},
   "outputs": [],
   "source": [
    "%matplotlib inline\n",
    "import numpy as np\n",
    "import matplotlib.pyplot as plt"
   ]
  },
  {
   "cell_type": "markdown",
   "metadata": {},
   "source": [
    "## Define fxn to integrate"
   ]
  },
  {
   "cell_type": "code",
   "execution_count": null,
   "metadata": {},
   "outputs": [],
   "source": [
    "def func(x):\n",
    "    a = 1.01\n",
    "    b = -3.04\n",
    "    c = 2.07\n",
    "    return a*x**2 + b*x + c"
   ]
  },
  {
   "cell_type": "markdown",
   "metadata": {},
   "source": [
    "## Define integral"
   ]
  },
  {
   "cell_type": "code",
   "execution_count": null,
   "metadata": {},
   "outputs": [],
   "source": [
    "def func_integral(x):\n",
    "    a = 1.01\n",
    "    b = -3.04\n",
    "    c = 2.07\n",
    "    return (a*x**3)/3. + (b*x**2)/2. + c*x"
   ]
  },
  {
   "cell_type": "markdown",
   "metadata": {},
   "source": [
    "## Core of trapezoid rule"
   ]
  },
  {
   "cell_type": "code",
   "execution_count": null,
   "metadata": {},
   "outputs": [],
   "source": [
    "def trapezoid_core(f, x, h):\n",
    "    return 0.5*h*(f(x+h) + f(x))"
   ]
  },
  {
   "cell_type": "markdown",
   "metadata": {},
   "source": [
    "## Wrapper fxn to perform trap method"
   ]
  },
  {
   "cell_type": "code",
   "execution_count": null,
   "metadata": {},
   "outputs": [],
   "source": [
    "def trapezoid_method(f,a,b,N):\n",
    "    # f == fxn to integrate\n",
    "    # a == lower bound of integration\n",
    "    # b == upper bound of integration\n",
    "    # N == # of fxn evaluations to use\n",
    "    \n",
    "    # Define x values on grid\n",
    "    x = np.linspace(a,b,N)\n",
    "    h = x[1] - x[0]\n",
    "    \n",
    "    # Define value of the integral\n",
    "    Fint = 0.0\n",
    "    \n",
    "    # Perfom integral using trapezoid method\n",
    "    for i in range(0, len(x) - 1, 1):\n",
    "        Fint += trapezoid_core(f, x[i], h)\n",
    "        \n",
    "    # Return the answer\n",
    "    return Fint"
   ]
  },
  {
   "cell_type": "markdown",
   "metadata": {},
   "source": [
    "## Define core of Simpson's Method"
   ]
  },
  {
   "cell_type": "code",
   "execution_count": null,
   "metadata": {},
   "outputs": [],
   "source": [
    "def simpson_core(f,x,h):\n",
    "    return h*(f(x) + 4*f(x+h) + f(x+2*h))/3."
   ]
  },
  {
   "cell_type": "markdown",
   "metadata": {},
   "source": [
    "## Define wrapper fxn for Simpson's method"
   ]
  },
  {
   "cell_type": "code",
   "execution_count": null,
   "metadata": {},
   "outputs": [],
   "source": [
    "def simpson_method(f,a,b,N):\n",
    "    # f == fxn to integrate\n",
    "    # a == left side of integral\n",
    "    # b ==. right side of integral\n",
    "    # N == number of intervals to use\n",
    "    \n",
    "    # Define x values on grid\n",
    "    x = np.linspace(a,b,N)\n",
    "    h = x[1] - x[0]\n",
    "    \n",
    "    # Define integral\n",
    "    Fint = 0.0\n",
    "    \n",
    "    # Perform integral using Simpson's method\n",
    "    for i in range(0, len(x) -2 , 2):\n",
    "        Fint += simpson_core(f, x[i], h)\n",
    "    \n",
    "    # Apply Simpson's rule over last interval\n",
    "    if((N%2) == 0):\n",
    "        Fint += simpson_core(f, x[-2], 0.5*h)\n",
    "        \n",
    "    # Return answer\n",
    "    return Fint"
   ]
  },
  {
   "cell_type": "markdown",
   "metadata": {},
   "source": [
    "## Define Romberg Core"
   ]
  },
  {
   "cell_type": "code",
   "execution_count": null,
   "metadata": {},
   "outputs": [],
   "source": [
    "def romberg_core(f, a, b, i):\n",
    "    \n",
    "    # Need diff between a & b\n",
    "    h = b-a\n",
    "    \n",
    "    # Interval between fxn evaluationss at refinement level == 1\n",
    "    dh = h/2.**(i)\n",
    "    \n",
    "    # Include cofactor\n",
    "    K = h/2.**(i+1)\n",
    "    \n",
    "    # Fxn evaluations\n",
    "    M = 0.0\n",
    "    for j in range(2**i):\n",
    "        M += f(a + 0.5*dh + j*dh)\n",
    "        \n",
    "    # \n",
    "    return K*M"
   ]
  },
  {
   "cell_type": "markdown",
   "metadata": {},
   "source": [
    "## Define wrapper fxn to perform Romberg integration"
   ]
  },
  {
   "cell_type": "code",
   "execution_count": null,
   "metadata": {},
   "outputs": [],
   "source": [
    "def romberg_integration(f,a, b, tol):\n",
    "    \n",
    "    # Define iteration variable\n",
    "    i = 0\n",
    "    \n",
    "    # Define max # of iterations\n",
    "    imax = 1000\n",
    "    \n",
    "    # Define error estimate, set to large value\n",
    "    delta = 100.0*np.fabs(tol)\n",
    "    \n",
    "    # Create an array of integral answers\n",
    "    I = np.zeros(imax, dtype=float)\n",
    "    \n",
    "    # Get the zeroth Romberg iteration\n",
    "    I[0] = 0.5*(b-a)*(f(a) + f(b))\n",
    "    \n",
    "    # Iterate by i\n",
    "    i += 1\n",
    "    \n",
    "    \n",
    "    while(delta>tol):\n",
    "        \n",
    "        # Find this Romberg iteration \n",
    "        I[i] = 0.5*I[i-1] + romberg_core(f,a,b,i)\n",
    "        \n",
    "        # Find new fractional error estimate\n",
    "        delta = np.fabs((I[i] - I[i-1])/I[i])\n",
    "        \n",
    "        print(i, I[i], I[i-1], delta)\n",
    "        \n",
    "        if(delta>tol):\n",
    "            \n",
    "            # Iterate\n",
    "            i +=1\n",
    "            \n",
    "            # If we've reached the max # of iterations\n",
    "            if(i>imax):\n",
    "                print(\"Max iterations reached.\")\n",
    "                raise StopIteration('Stopping iterations after ',i)\n",
    "                \n",
    "    # Return result (answer)\n",
    "    return I[i]"
   ]
  },
  {
   "cell_type": "markdown",
   "metadata": {},
   "source": [
    "## Check integrals"
   ]
  },
  {
   "cell_type": "code",
   "execution_count": null,
   "metadata": {},
   "outputs": [],
   "source": [
    "Answer = func_integral(1) - func_integral(0)\n",
    "print(Answer)\n",
    "print(\"Trapezoid method \")\n",
    "print(trapezoid_method(func, 0, 1, 10))\n",
    "print(\"Simpsons method \")\n",
    "print(simpson_method(func, 0, 1, 10))\n",
    "print(\"Romberg \")\n",
    "tolerance = 1.0e-4\n",
    "RI = romberg_integration(func, 0, 1, tolerance)\n",
    "print(RI, (RI-Answer)/Answer, tolerance)\n",
    "      "
   ]
  },
  {
   "cell_type": "code",
   "execution_count": null,
   "metadata": {},
   "outputs": [],
   "source": []
  }
 ],
 "metadata": {
  "kernelspec": {
   "display_name": "Python 3",
   "language": "python",
   "name": "python3"
  },
  "language_info": {
   "codemirror_mode": {
    "name": "ipython",
    "version": 3
   },
   "file_extension": ".py",
   "mimetype": "text/x-python",
   "name": "python",
   "nbconvert_exporter": "python",
   "pygments_lexer": "ipython3",
   "version": "3.8.5"
  }
 },
 "nbformat": 4,
 "nbformat_minor": 4
}
