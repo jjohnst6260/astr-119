{
 "cells": [
  {
   "cell_type": "code",
   "execution_count": 7,
   "metadata": {},
   "outputs": [],
   "source": [
    "%matplotlib inline\n",
    "import numpy as np\n",
    "import matplotlib.pyplot as plt"
   ]
  },
  {
   "cell_type": "code",
   "execution_count": null,
   "metadata": {},
   "outputs": [],
   "source": [
    "# create an array from [0,2pi] in 1000 increments\n",
    "x = np.arange(0, 2*np.pi, 0.001)\n",
    "\n",
    "# create fxn y\n",
    "y = 5.5*np.cos(2*x)+5.5 \n",
    "\n",
    "# create fxn w\n",
    "w = 0.02*np.exp(x)\n",
    "\n",
    "# create fxn z\n",
    "z = (0.25*x**2)+(0.1*np.sin(10*x))\n",
    "\n",
    "# plot all fxns with legends\n",
    "plt.plot(x,y, label='y')                         \n",
    "plt.plot(x,w, label='w')                                              \n",
    "plt.plot(x,z, label='z') \n",
    "plt.legend()\n",
    "\n",
    "# create titles for axes\n",
    "plt.xlabel('ASTR 119')                 \n",
    "plt.ylabel('Measures of Awesomeness')\n",
    "\n",
    "# show plot\n",
    "plt.show()                               \n",
    "                           \n",
    "\n",
    "\n",
    "\n"
   ]
  },
  {
   "cell_type": "code",
   "execution_count": null,
   "metadata": {},
   "outputs": [],
   "source": []
  }
 ],
 "metadata": {
  "kernelspec": {
   "display_name": "Python 3",
   "language": "python",
   "name": "python3"
  },
  "language_info": {
   "codemirror_mode": {
    "name": "ipython",
    "version": 3
   },
   "file_extension": ".py",
   "mimetype": "text/x-python",
   "name": "python",
   "nbconvert_exporter": "python",
   "pygments_lexer": "ipython3",
   "version": "3.8.5"
  }
 },
 "nbformat": 4,
 "nbformat_minor": 4
}
