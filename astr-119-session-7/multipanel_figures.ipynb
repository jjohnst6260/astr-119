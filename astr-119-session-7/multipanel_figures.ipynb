{
 "cells": [
  {
   "cell_type": "markdown",
   "metadata": {},
   "source": [
    "# Making Multipanel Plots with Matplotlib\n"
   ]
  },
  {
   "cell_type": "markdown",
   "metadata": {},
   "source": [
    "First, import numpy and matplotlib.\n"
   ]
  },
  {
   "cell_type": "code",
   "execution_count": null,
   "metadata": {},
   "outputs": [],
   "source": [
    "%matplotlib inline\n",
    "import numpy as np\n",
    "import matplotlib.pyplot as plt"
   ]
  },
  {
   "cell_type": "markdown",
   "metadata": {},
   "source": [
    "Then, define an array of angles and there sines/cosines using numpy. This time using linspace"
   ]
  },
  {
   "cell_type": "code",
   "execution_count": null,
   "metadata": {},
   "outputs": [],
   "source": [
    "x = np.linspace(0, 2*np.pi, 100)\n",
    "print(\"First element of x = \", x[0])\n",
    "print(\"Last element of x = \", x[-1])\n",
    "print(\"2*i = , \", 2*np.pi)"
   ]
  },
  {
   "cell_type": "code",
   "execution_count": null,
   "metadata": {},
   "outputs": [],
   "source": [
    "y = np.sin(x)\n",
    "z = np.cos(x)\n",
    "w = np.sin(4*x)\n",
    "v = np.cos(4*x)"
   ]
  },
  {
   "cell_type": "markdown",
   "metadata": {},
   "source": [
    "Now make a 2 panel plot side-by-side"
   ]
  },
  {
   "cell_type": "code",
   "execution_count": null,
   "metadata": {},
   "outputs": [],
   "source": [
    "# call subplots to generate multipanel plot (ie: 1 row, 2 columns)\n",
    "\n",
    "f, axarr = plt.subplots(1, 2)\n",
    "\n",
    "# treat axarr as array from left to right\n",
    "\n",
    "# first panel\n",
    "axarr[0].plot(x, y)\n",
    "axarr[0].set_xlabel('x')\n",
    "axarr[0].set_ylabel('sinx')\n",
    "axarr[0].set_title(r'$\\sin(x)$')\n",
    "\n",
    "# second panel\n",
    "axarr[1].plot(x, z)\n",
    "axarr[1].set_xlabel('x')\n",
    "axarr[1].set_ylabel('cos(x)')\n",
    "axarr[1].set_title(r'$\\cos(x)$')"
   ]
  },
  {
   "cell_type": "markdown",
   "metadata": {},
   "source": [
    "### Matplotlib has the panels too close together. Adjust subplots with subplots_adjust fxn."
   ]
  },
  {
   "cell_type": "code",
   "execution_count": null,
   "metadata": {},
   "outputs": [],
   "source": [
    "# call subplots to generate multipanel plot (ie: 1 row, 2 columns)\n",
    "\n",
    "f, axarr = plt.subplots(1, 2)\n",
    "\n",
    "# treat axarr as array from left to right\n",
    "\n",
    "# first panel\n",
    "axarr[0].plot(x, y)\n",
    "axarr[0].set_xlabel('x')\n",
    "axarr[0].set_ylabel('sinx')\n",
    "axarr[0].set_title(r'$\\sin(x)$')\n",
    "\n",
    "# second panel\n",
    "axarr[1].plot(x, z)\n",
    "axarr[1].set_xlabel('x')\n",
    "axarr[1].set_ylabel('cos(x)')\n",
    "axarr[1].set_title(r'$\\cos(x)$')\n",
    "\n",
    "# add more space between figures\n",
    "f.subplots_adjust(wspace=0.4)"
   ]
  },
  {
   "cell_type": "markdown",
   "metadata": {},
   "source": [
    "#### Fix axis ratios (too narrow)"
   ]
  },
  {
   "cell_type": "code",
   "execution_count": null,
   "metadata": {},
   "outputs": [],
   "source": [
    "# call subplots to generate multipanel plot (ie: 1 row, 2 columns)\n",
    "\n",
    "f, axarr = plt.subplots(1, 2)\n",
    "\n",
    "# treat axarr as array from left to right\n",
    "\n",
    "# first panel\n",
    "axarr[0].plot(x, y)\n",
    "axarr[0].set_xlabel('x')\n",
    "axarr[0].set_ylabel('sinx')\n",
    "axarr[0].set_title(r'$\\sin(x)$')\n",
    "\n",
    "# second panel\n",
    "axarr[1].plot(x, z)\n",
    "axarr[1].set_xlabel('x')\n",
    "axarr[1].set_ylabel('cos(x)')\n",
    "axarr[1].set_title(r'$\\cos(x)$')\n",
    "\n",
    "# add more space between figures\n",
    "f.subplots_adjust(wspace=0.4)\n",
    "\n",
    "# set the limits\n",
    "axarr[0].set_xlim([0, 2*np.pi])\n",
    "axarr[0].set_ylim([-1, 1])\n",
    "axarr[1].set_xlim([0,2*np.pi])\n",
    "axarr[1].set_ylim([-1, 1])\n",
    "\n",
    "# fix axis ratio\n",
    "\n",
    "# option 1 (left panel), ratio of tick units equal.\n",
    "axarr[0].set_aspect('equal')\n",
    "\n",
    "# option 2 (right panel), make square by setting aspect\n",
    "#to be the ratio of the (tick unit) range\n",
    "axarr[1].set_aspect(np.pi)\n"
   ]
  },
  {
   "cell_type": "markdown",
   "metadata": {},
   "source": [
    "### Keep the square figure, merge them into one, remove titles and add legends"
   ]
  },
  {
   "cell_type": "code",
   "execution_count": null,
   "metadata": {},
   "outputs": [],
   "source": [
    "# Adjust size of figure\n",
    "fig = plt.figure(figsize=(6,6))\n",
    "\n",
    "# Add sin(x), cos(x), etc... label\n",
    "plt.plot(x, y, label=r'$y = \\sin(x)$')\n",
    "plt.plot(x, z, label=r'$y = \\cos(x)$')\n",
    "plt.plot(x, w, label=r'$y = \\sin(4x)$')\n",
    "plt.plot(x, v, label=r'$y = \\cos(x)$')\n",
    "\n",
    "plt.xlabel(r'$x$')\n",
    "plt.ylabel(r'$y(x)')\n",
    "plt.xlim([0, 2*np.pi])\n",
    "plt.ylim([-1.2, 1.2])\n",
    "\n",
    "# Make semi transparent\n",
    "plt.legend(loc=2, framealpha=0.5, frameon = False)\n",
    "\n",
    "# Adjust axis ratio to get square figure\n",
    "plt.gca().set_aspect(np.pi/1.2)\n",
    "\n",
    "\n"
   ]
  },
  {
   "cell_type": "code",
   "execution_count": null,
   "metadata": {},
   "outputs": [],
   "source": []
  }
 ],
 "metadata": {
  "kernelspec": {
   "display_name": "Python 3",
   "language": "python",
   "name": "python3"
  },
  "language_info": {
   "codemirror_mode": {
    "name": "ipython",
    "version": 3
   },
   "file_extension": ".py",
   "mimetype": "text/x-python",
   "name": "python",
   "nbconvert_exporter": "python",
   "pygments_lexer": "ipython3",
   "version": "3.8.5"
  }
 },
 "nbformat": 4,
 "nbformat_minor": 4
}
