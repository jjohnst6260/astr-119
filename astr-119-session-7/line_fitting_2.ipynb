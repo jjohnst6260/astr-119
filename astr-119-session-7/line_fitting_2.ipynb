{
 "cells": [
  {
   "cell_type": "markdown",
   "metadata": {},
   "source": [
    "# Example of Line Fitting"
   ]
  },
  {
   "cell_type": "markdown",
   "metadata": {},
   "source": [
    "### Import numpy and matplotlib"
   ]
  },
  {
   "cell_type": "code",
   "execution_count": null,
   "metadata": {},
   "outputs": [],
   "source": [
    "%matplotlib inline\n",
    "import numpy as np\n",
    "import matplotlib.pyplot as plt"
   ]
  },
  {
   "cell_type": "markdown",
   "metadata": {},
   "source": [
    "### Generate random data about trendline"
   ]
  },
  {
   "cell_type": "code",
   "execution_count": null,
   "metadata": {},
   "outputs": [],
   "source": [
    "# Set random number seed\n",
    "np.random.seed(119)\n",
    "\n",
    "# Set number of data points\n",
    "npoints = 50\n",
    "\n",
    "# Set variable x in array\n",
    "x = np.linspace(0, 10., npoints)\n",
    "\n",
    "# Set slope\n",
    "m = 2.0\n",
    "# Set intercept\n",
    "b = 1.0\n",
    "# Set scatter rms in the noise\n",
    "sigma = 2.0\n",
    "\n",
    "# Generate the y points\n",
    "y = m*x + b + np.random.normal(scale = sigma, size = npoints)\n",
    "y_err = np.full(npoints, sigma)\n",
    "\n",
    "\n"
   ]
  },
  {
   "cell_type": "markdown",
   "metadata": {},
   "source": [
    "### Plot the data"
   ]
  },
  {
   "cell_type": "code",
   "execution_count": null,
   "metadata": {},
   "outputs": [],
   "source": [
    "f = plt.figure(figsize = (7, 7))\n",
    "plt.errorbar(x, y, sigma, fmt = 'o')\n",
    "plt.xlabel('x')\n",
    "plt.ylabel('y')"
   ]
  },
  {
   "cell_type": "markdown",
   "metadata": {},
   "source": [
    "### Fitting Method 1: polyfit"
   ]
  },
  {
   "cell_type": "code",
   "execution_count": null,
   "metadata": {},
   "outputs": [],
   "source": [
    "# Weighted linear fit\n",
    "m_fit, b_fit = np.poly1d(np.polyfit(x, y, 1, w = 1./y_err))\n",
    "print(m_fit, b_fit)\n",
    "\n",
    "y_fit = m_fit * x + b_fit\n"
   ]
  },
  {
   "cell_type": "markdown",
   "metadata": {},
   "source": [
    "### Plot result"
   ]
  },
  {
   "cell_type": "code",
   "execution_count": null,
   "metadata": {},
   "outputs": [],
   "source": [
    "f = plt.figure(figsize = (7, 7))\n",
    "plt.errorbar(x, y, yerr = y_err, fmt = 'o', label = 'data')\n",
    "plt.plot(x, y_fit, label = 'fit')\n",
    "plt.xlabel('x')\n",
    "plt.ylabel('y')\n",
    "plt.legend(loc = 2, frameon = False)"
   ]
  },
  {
   "cell_type": "markdown",
   "metadata": {},
   "source": [
    "### Plotting method 2: scipy & optimize"
   ]
  },
  {
   "cell_type": "code",
   "execution_count": null,
   "metadata": {},
   "outputs": [],
   "source": [
    "# Import optimize from scipy\n",
    "from scipy import optimize\n",
    "\n",
    "# Define the fxn to fit\n",
    "def f_line(x, m, b):\n",
    "    return m*x + b\n",
    "\n",
    "# Perform fit\n",
    "params, params_cov =  optimize.curve_fit(f_line, x, y, sigma = y_err)\n",
    "\n",
    "m_fit = params[0]\n",
    "b_fit = params[1]\n",
    "print(m_fit, b_fit)"
   ]
  },
  {
   "cell_type": "code",
   "execution_count": null,
   "metadata": {},
   "outputs": [],
   "source": [
    "f = plt.figure(figsize = (7, 7))\n",
    "plt.errorbar(x, y, yerr = y_err, fmt = 'o', label = 'data')\n",
    "plt.plot(x, y_fit, label = 'fit')\n",
    "plt.plot(x, m_fit*x + b_fit, label = 'Fit using scipy')\n",
    "plt.xlabel('x')\n",
    "plt.ylabel('y')\n",
    "plt.legend(loc = 2, frameon = False)"
   ]
  },
  {
   "cell_type": "markdown",
   "metadata": {},
   "source": [
    "### Perform a more complicated fit"
   ]
  },
  {
   "cell_type": "code",
   "execution_count": null,
   "metadata": {},
   "outputs": [],
   "source": [
    "# Redefine x and y\n",
    "npoints = 50\n",
    "x = np.linspace(0., 2*np.pi, npoints)\n",
    "\n",
    "# Define complicated fxn\n",
    "a = 3.4\n",
    "b = 2.1\n",
    "c = 0.27\n",
    "d = -1.3\n",
    "sig = 0.6\n",
    "\n",
    "y = a * np.sin(b*x + c) + d + np.random.normal(scale = sig, size = npoints)\n",
    "y_err = np.full(npoints, sig)\n",
    "\n",
    "f = plt.figure(figsize = (7, 7))\n",
    "plt.errorbar(x, y, yerr = y_err, fmt ='o')\n",
    "plt.xlabel('x')\n",
    "plt.ylabel('y')"
   ]
  },
  {
   "cell_type": "markdown",
   "metadata": {},
   "source": [
    "### Perform fit using scipy.optimize.curve_fit()"
   ]
  },
  {
   "cell_type": "code",
   "execution_count": null,
   "metadata": {},
   "outputs": [],
   "source": [
    "# Import optimize from scipy\n",
    "from scipy import optimize\n",
    "\n",
    "# Define function to fit\n",
    "def f_curve(x, a, b, c, d):\n",
    "    return a*np.sin(b*x + c) + d\n",
    "\n",
    "# Perform fit\n",
    "params, params_cov = optimize.curve_fit(f_curve, x, y, \n",
    "    sigma = y_err, p0 = [1, 2., 0.1, -0.1])\n",
    "\n",
    "a_fit = params[0]\n",
    "b_fit = params[1]\n",
    "c_fit = params[2]\n",
    "d_fit = params[3]\n",
    "\n",
    "print(a_fit, b_fit, c_fit, d_fit)\n",
    "\n",
    "y_fit = a_fit * np.sin(b_fit * x + c_fit) + d_fit\n",
    "\n",
    "# a = 3.4\n",
    "# b = 2.1\n",
    "# c = 0.27\n",
    "# d = -1.3\n"
   ]
  },
  {
   "cell_type": "markdown",
   "metadata": {},
   "source": [
    "### Plot the fit"
   ]
  },
  {
   "cell_type": "code",
   "execution_count": null,
   "metadata": {},
   "outputs": [],
   "source": [
    "f = plt.figure(figsize = (7, 7))\n",
    "plt.errorbar(x, y, yerr = y_err, fmt = 'o', label = 'data')\n",
    "plt.plot(x, y_fit, label = 'fit')\n",
    "plt.xlabel('x')\n",
    "plt.ylabel('y')\n",
    "plt.legend(loc = 0, frameon = False)"
   ]
  },
  {
   "cell_type": "code",
   "execution_count": null,
   "metadata": {},
   "outputs": [],
   "source": []
  }
 ],
 "metadata": {
  "kernelspec": {
   "display_name": "Python 3",
   "language": "python",
   "name": "python3"
  },
  "language_info": {
   "codemirror_mode": {
    "name": "ipython",
    "version": 3
   },
   "file_extension": ".py",
   "mimetype": "text/x-python",
   "name": "python",
   "nbconvert_exporter": "python",
   "pygments_lexer": "ipython3",
   "version": "3.8.5"
  }
 },
 "nbformat": 4,
 "nbformat_minor": 4
}
