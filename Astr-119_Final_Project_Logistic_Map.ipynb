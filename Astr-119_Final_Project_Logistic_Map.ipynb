{
 "cells": [
  {
   "cell_type": "markdown",
   "metadata": {},
   "source": [
    "# Final Project Logistic Map"
   ]
  },
  {
   "cell_type": "markdown",
   "metadata": {},
   "source": [
    "## Import the usual suspects"
   ]
  },
  {
   "cell_type": "code",
   "execution_count": null,
   "metadata": {},
   "outputs": [],
   "source": [
    "%matplotlib inline\n",
    "import numpy as np\n",
    "import matplotlib.pyplot as plt"
   ]
  },
  {
   "cell_type": "markdown",
   "metadata": {},
   "source": [
    "## Define some constants and variables"
   ]
  },
  {
   "cell_type": "code",
   "execution_count": null,
   "metadata": {},
   "outputs": [],
   "source": [
    "#create r values\n",
    "r_n = np.arange(0.7, 1.0, 0.01)\n",
    "\n",
    "#create preliminary iterations to eliminate transients,\n",
    "#suggested by Strogatz in \"Non-Linear Dynamics and Chaos\".\n",
    "iterations = 100000\n",
    "\n",
    "#number of iterations to evolve map\n",
    "n = 100"
   ]
  },
  {
   "cell_type": "markdown",
   "metadata": {},
   "source": [
    "## Define the function to create the logistic map"
   ]
  },
  {
   "cell_type": "code",
   "execution_count": null,
   "metadata": {},
   "outputs": [],
   "source": [
    "def LogisticMap():\n",
    "    \n",
    "    #initial condition x = 0.65\n",
    "    x = 0.65\n",
    "    \n",
    "    #iterate over iterations + n\n",
    "    for i in range(iterations + n):\n",
    "        \n",
    "        #logistic equation\n",
    "        x = 4 * r_n * x * (1 - x)\n",
    "        \n",
    "        #use only last 100 iterations for plot\n",
    "        if i >= iterations:\n",
    "            \n",
    "            #plot 100 generations with red dots\n",
    "            plt.plot(r_n, x, 'o', color=\"red\", alpha = 0.3, ms = 1)\n",
    "            plt.xlabel('r')\n",
    "            plt.ylabel('x')\n",
    "            plt.title('Logistic Map')\n",
    "            plt.rcParams['figure.figsize'] = (5,10)\n",
    "                     \n",
    "    #show plot\n",
    "    plt.show()\n",
    "                     \n",
    "#call the function\n",
    "LogisticMap()"
   ]
  },
  {
   "cell_type": "markdown",
   "metadata": {},
   "source": [
    "## Function for Lyapunov Exponent"
   ]
  },
  {
   "cell_type": "code",
   "execution_count": null,
   "metadata": {},
   "outputs": [],
   "source": [
    "def LyapunovExponent():\n",
    "    \n",
    "    #initial condition\n",
    "    x = 0.65\n",
    "    \n",
    "    #create an array to hold the summation\n",
    "    lambda_n = np.array(r_n, dtype = float)\n",
    "    \n",
    "    for i in range(iterations + n):\n",
    "        \n",
    "        #create x values \n",
    "        x = 4 * r_n * x * (1 - x)\n",
    "        \n",
    "        #Lyapunov function summing over iterations\n",
    "        lambda_n +=  np.log(np.fabs(4 * r_n - 8 * r_n * x))\n",
    "        \n",
    "        #last 100 iterations to plot\n",
    "        if i >= iterations:\n",
    "            \n",
    "            #dividing by 1/n\n",
    "            lambda_1 = 1/n * lambda_n\n",
    "            \n",
    "            plt.plot(r_n, lambda_1, color = \"blue\", lw = 0.1)\n",
    "            plt.ylabel('$\\lambda$')\n",
    "            plt.xlabel('r')\n",
    "            plt.title('Lyapunov Exponent')\n",
    "            plt.axhline(0, color = 'k', lw = 0.5,)\n",
    "            plt.rcParams['figure.figsize'] = (5,10)\n",
    "            \n",
    "    #show plot\n",
    "    plt.show()\n",
    "    \n",
    "#call function\n",
    "LyapunovExponent()"
   ]
  },
  {
   "cell_type": "code",
   "execution_count": null,
   "metadata": {},
   "outputs": [],
   "source": []
  },
  {
   "cell_type": "code",
   "execution_count": null,
   "metadata": {},
   "outputs": [],
   "source": []
  },
  {
   "cell_type": "code",
   "execution_count": null,
   "metadata": {},
   "outputs": [],
   "source": []
  }
 ],
 "metadata": {
  "kernelspec": {
   "display_name": "Python 3",
   "language": "python",
   "name": "python3"
  },
  "language_info": {
   "codemirror_mode": {
    "name": "ipython",
    "version": 3
   },
   "file_extension": ".py",
   "mimetype": "text/x-python",
   "name": "python",
   "nbconvert_exporter": "python",
   "pygments_lexer": "ipython3",
   "version": "3.8.5"
  }
 },
 "nbformat": 4,
 "nbformat_minor": 4
}
