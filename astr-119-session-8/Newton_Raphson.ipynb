{
 "cells": [
  {
   "cell_type": "code",
   "execution_count": null,
   "metadata": {},
   "outputs": [],
   "source": [
    "%matplotlib inline\n",
    "import numpy as np\n",
    "import matplotlib.pyplot as plt\n"
   ]
  },
  {
   "cell_type": "markdown",
   "metadata": {},
   "source": [
    "## Define fxn for root finding"
   ]
  },
  {
   "cell_type": "code",
   "execution_count": null,
   "metadata": {},
   "outputs": [],
   "source": [
    "def fxn_for_root(x):\n",
    "    a = 1.01\n",
    "    b = -3.04\n",
    "    c = 2.07\n",
    "    return a*x**2 + b*x + c\n"
   ]
  },
  {
   "cell_type": "markdown",
   "metadata": {},
   "source": [
    "## Define derivative"
   ]
  },
  {
   "cell_type": "code",
   "execution_count": null,
   "metadata": {},
   "outputs": [],
   "source": [
    "def deriv_for_root(x):\n",
    "    a = 1.01\n",
    "    b = -3.04\n",
    "    return 2*a*x +b"
   ]
  },
  {
   "cell_type": "markdown",
   "metadata": {},
   "source": [
    "## Define work fxn"
   ]
  },
  {
   "cell_type": "code",
   "execution_count": null,
   "metadata": {},
   "outputs": [],
   "source": [
    "def newt_rap_root_find(f, dfdx, x_start, tol):\n",
    "     \n",
    "        # Fxn uses Newton_Raphson to find root\n",
    "        \n",
    "        # Set a flag\n",
    "        flag = 1\n",
    "        \n",
    "        # Set max iterations\n",
    "        imax = 10000\n",
    "        \n",
    "        # Start counter\n",
    "        i = 0\n",
    "        \n",
    "        # Define new and old guess for root\n",
    "        x_old = x_start\n",
    "        x_new = 0.0\n",
    "        y_new = 0.0\n",
    "        \n",
    "        # Start loop\n",
    "        while(flag):\n",
    "            \n",
    "            # Make new guess\n",
    "            x_new = x_old - f(x_old)/dfdx(x_old)\n",
    "            \n",
    "            # Print Iterations\n",
    "            print(x_new, x_old, f(x_old), dfdx(x_old))\n",
    "            \n",
    "            # If abs value of new fxn value < tol, stop\n",
    "            y_new = f(x_new)\n",
    "            if(np.fabs(y_new) < tol):\n",
    "                # Stop the iteration\n",
    "                flag = 0\n",
    "            else:\n",
    "                # Save the result\n",
    "                x_old = x_new\n",
    "                # Incremenet iteration\n",
    "                i += 1\n",
    "                \n",
    "            if(i > imax):\n",
    "                printf(\"Max iterations reached.\")\n",
    "                raise StopIteration('Stopping iterations after', i)\n",
    "                \n",
    "        # We are done\n",
    "        return x_new\n",
    "            "
   ]
  },
  {
   "cell_type": "markdown",
   "metadata": {},
   "source": [
    "## Perform search"
   ]
  },
  {
   "cell_type": "code",
   "execution_count": null,
   "metadata": {},
   "outputs": [],
   "source": [
    "x_start = 0.5\n",
    "tolerance = 1.0e-6\n",
    "\n",
    "# Print initial guess\n",
    "print(x_start, fxn_for_root(x_start))\n",
    "\n",
    "x_root = newt_rap_root_find(fxn_for_root, deriv_for_root, x_start, tolerance)\n",
    "y_root = fxn_for_root(x_root)\n",
    "\n",
    "s = \"Root found with. y(%f) = %f\" % (x_root, y_root)\n",
    "print(s)"
   ]
  },
  {
   "cell_type": "code",
   "execution_count": null,
   "metadata": {},
   "outputs": [],
   "source": []
  }
 ],
 "metadata": {
  "kernelspec": {
   "display_name": "Python 3",
   "language": "python",
   "name": "python3"
  },
  "language_info": {
   "codemirror_mode": {
    "name": "ipython",
    "version": 3
   },
   "file_extension": ".py",
   "mimetype": "text/x-python",
   "name": "python",
   "nbconvert_exporter": "python",
   "pygments_lexer": "ipython3",
   "version": "3.8.5"
  }
 },
 "nbformat": 4,
 "nbformat_minor": 4
}
