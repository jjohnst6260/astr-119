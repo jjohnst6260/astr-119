{
 "cells": [
  {
   "cell_type": "code",
   "execution_count": null,
   "metadata": {},
   "outputs": [],
   "source": [
    "%matplotlib inline\n",
    "import numpy as np\n",
    "import matplotlib.pyplot as plt"
   ]
  },
  {
   "cell_type": "code",
   "execution_count": null,
   "metadata": {},
   "outputs": [],
   "source": [
    "## Define fxn to find roots of"
   ]
  },
  {
   "cell_type": "code",
   "execution_count": null,
   "metadata": {},
   "outputs": [],
   "source": [
    "def fxn_for_roots(x):\n",
    "    a = 1.01\n",
    "    b = -3.04\n",
    "    c = 2.07\n",
    "    # Get roots of eqn below\n",
    "    return a*x**2 + b*x + c"
   ]
  },
  {
   "cell_type": "markdown",
   "metadata": {},
   "source": [
    "## Fxn to check whether initial values valid"
   ]
  },
  {
   "cell_type": "code",
   "execution_count": null,
   "metadata": {},
   "outputs": [],
   "source": [
    "def check_initial_values(f, s_min, x_max, tol):\n",
    "    \n",
    "    # Check initial guess\n",
    "    y_min = f(x_min)\n",
    "    y_max = f(x_max)\n",
    "    \n",
    "    # Check that x_min, x_max contain a root in the interval\n",
    "    if(y_min * y_max >= 0.0):\n",
    "        print(\"No root found in range = \", x_min, x_max)\n",
    "        s = \"f(%f) = %f, f(%f) = %f\" % (x_min, y_min, x_max, y_max)\n",
    "        print(s)\n",
    "        return 0\n",
    "    \n",
    "    # If x-min is a root, return flag == 1\n",
    "    if(np.fabs(y_min) < tol):\n",
    "        return 1\n",
    "    \n",
    "    # If x_max a root, return flag == 2\n",
    "    if(np.fabs(y_max) < tol):\n",
    "        return 2\n",
    "    \n",
    "    # If this is reached, interval valid, return 3\n",
    "    return 3"
   ]
  },
  {
   "cell_type": "markdown",
   "metadata": {},
   "source": [
    "## Define main work fxn that performs iterative search"
   ]
  },
  {
   "cell_type": "code",
   "execution_count": null,
   "metadata": {},
   "outputs": [],
   "source": [
    "# This fxn uses bisection search to find root\n",
    "def bisection_root_finding(f, x_min_start, x_max_start, tol):\n",
    "    \n",
    "    # Min x in bracket\n",
    "    x_min = x_min_start\n",
    "    # Max x in bracket\n",
    "    x_max = x_max_start\n",
    "    # Midpoint\n",
    "    x_mid = 0.0\n",
    "    \n",
    "    # Fxn value at x_min\n",
    "    y_min = f(x_min)\n",
    "    # Fxn value at x_max\n",
    "    y_max = f(x_max)\n",
    "    # Fxn value at midpoint\n",
    "    y_mid = 0.0\n",
    "    \n",
    "    # Set max # of iterations\n",
    "    imax = 10000\n",
    "    # Iteration counter\n",
    "    i = 0\n",
    "    \n",
    "    # Check initial values\n",
    "    flag = check_initial_values(f, x_min, x_max,tol)\n",
    "    if(flag == 0):\n",
    "        print(\"Error in bisection_root_finding().\")\n",
    "        raise ValueError('Initial values invalid', x_min, x_max)\n",
    "    elif(flag == 1):\n",
    "        # Lucky guess\n",
    "        return x_min\n",
    "    elif(flag == 2):\n",
    "        # Lucky guess\n",
    "        return x_max\n",
    "    \n",
    "    # If this point in code reached, perform search\n",
    "    \n",
    "    # Set a flag\n",
    "    flag = 1\n",
    "    \n",
    "    # Enter while loop\n",
    "    while(flag):\n",
    "        # Midpoint\n",
    "        x_mid = 0.5*(x_min + x_max)\n",
    "        # Fxn value at x_mid\n",
    "        y_mid = f(x_mid)\n",
    "        \n",
    "        # Check if x_mid is root\n",
    "        if(np.fabs(y_mid) < tol):\n",
    "            flag = 0\n",
    "        else:\n",
    "            # x_mid is not a root\n",
    "            \n",
    "            # If the product of fxn at midpoint and\n",
    "            # at one of the end point is greater than\n",
    "            # 0, replace this end point\n",
    "            if(f(x_min)*f(x_mid) > 0):\n",
    "                # Replace x_min with x_mid\n",
    "                x_min = x_mid\n",
    "            else:\n",
    "                # Replace x_max with x_mid\n",
    "                x_max = x_mid\n",
    "                \n",
    "        # Print iteration\n",
    "        print(x_min, f(x_min), x_max, f(x_max))\n",
    "        \n",
    "        # Count the iteration\n",
    "        i += 1\n",
    "        \n",
    "        # If exceeded max # of iterations, exit\n",
    "        if(i >= imax):\n",
    "            print(\"Exceeded max number of iterations = \", i)\n",
    "            s = \"Min bracket f(%f) = %f\" % (x_min, f(x_min))\n",
    "            print(s)\n",
    "            s = \"Max bracket f(%f) = %f\" % (x_max, f(x_max))\n",
    "            print(s)\n",
    "            s = \"Mid bracket f(%f) = %f\" % (x_mid, f(x_mid))\n",
    "            print(s)\n",
    "            raise StopIteration('Stopping iterations after ', i)\n",
    "            \n",
    "    # Finished\n",
    "    return x_mid"
   ]
  },
  {
   "cell_type": "markdown",
   "metadata": {},
   "source": [
    "## Perform search"
   ]
  },
  {
   "cell_type": "code",
   "execution_count": null,
   "metadata": {},
   "outputs": [],
   "source": [
    "x_min = 0.0\n",
    "x_max = 1.5\n",
    "tolerance = 1.0e-6\n",
    "\n",
    "# Print initial guess\n",
    "print(x_min, fxn_for_roots(x_min))\n",
    "print(x_max, fxn_for_roots(x_max))\n",
    "\n",
    "x_root = bisection_root_finding(fxn_for_roots, x_min, x_max, tolerance)\n",
    "y_root = fxn_for_roots(x_root)\n",
    "\n",
    "s = \"Root found with y(%f) = %f\" % (x_root, y_root)\n",
    "print(s)"
   ]
  },
  {
   "cell_type": "code",
   "execution_count": null,
   "metadata": {},
   "outputs": [],
   "source": []
  }
 ],
 "metadata": {
  "kernelspec": {
   "display_name": "Python 3",
   "language": "python",
   "name": "python3"
  },
  "language_info": {
   "codemirror_mode": {
    "name": "ipython",
    "version": 3
   },
   "file_extension": ".py",
   "mimetype": "text/x-python",
   "name": "python",
   "nbconvert_exporter": "python",
   "pygments_lexer": "ipython3",
   "version": "3.8.5"
  }
 },
 "nbformat": 4,
 "nbformat_minor": 4
}
