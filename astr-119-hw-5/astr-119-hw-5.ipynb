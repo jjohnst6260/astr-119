{
 "cells": [
  {
   "cell_type": "code",
   "execution_count": null,
   "metadata": {},
   "outputs": [],
   "source": [
    "%matplotlib inline\n",
    "import numpy as np\n",
    "import matplotlib.pyplot as plt"
   ]
  },
  {
   "cell_type": "markdown",
   "metadata": {},
   "source": [
    "## Function"
   ]
  },
  {
   "cell_type": "code",
   "execution_count": null,
   "metadata": {},
   "outputs": [],
   "source": [
    "# Define fxn to integrate\n",
    "def func(x):\n",
    "    a = -2\n",
    "    b = 10\n",
    "    return np.exp(a*x)*np.cos(b*x)"
   ]
  },
  {
   "cell_type": "markdown",
   "metadata": {},
   "source": [
    "## Core of Trapezoid Method"
   ]
  },
  {
   "cell_type": "code",
   "execution_count": null,
   "metadata": {},
   "outputs": [],
   "source": [
    "def trapezoid_core(f, x, h):\n",
    "    return 0.5*h*(f(x + h) + f(x))"
   ]
  },
  {
   "cell_type": "markdown",
   "metadata": {},
   "source": [
    "## Wrapper Fxn to Perform Trapezoid Method"
   ]
  },
  {
   "cell_type": "code",
   "execution_count": null,
   "metadata": {},
   "outputs": [],
   "source": [
    "# f == fxn to integrate\n",
    "# a == lower bound of integration\n",
    "# b == upper bound of integration\n",
    "# N == # of fxn evaluations to use\n",
    "def trapezoid_method(f, a, b, N):\n",
    "    \n",
    "    # Define x values on grid\n",
    "    x = np.linspace(a, b, N)\n",
    "    h = x[1]- x[0]\n",
    "    \n",
    "    #Define value of integral\n",
    "    Fint = 0.0\n",
    "    \n",
    "    # Perform integral\n",
    "    for i in range(0, len(x)-1, 1):\n",
    "        Fint += trapezoid_core(f, x[i], h)\n",
    "        \n",
    "    # Return answer\n",
    "    return Fint"
   ]
  },
  {
   "cell_type": "code",
   "execution_count": null,
   "metadata": {},
   "outputs": [],
   "source": [
    "print(trapezoid_method(func, 0, (np.pi), 3400))\n",
    "# print(\"Number of iterations is \", x[i])"
   ]
  },
  {
   "cell_type": "markdown",
   "metadata": {},
   "source": [
    "## Simpsons Method"
   ]
  },
  {
   "cell_type": "markdown",
   "metadata": {},
   "source": [
    "### Core of Simpsons Method"
   ]
  },
  {
   "cell_type": "code",
   "execution_count": null,
   "metadata": {},
   "outputs": [],
   "source": [
    "def simpson_core(f, x, h):\n",
    "    return h*(f(x) + 4*f(x+h) + f(x + 2*h))/3."
   ]
  },
  {
   "cell_type": "markdown",
   "metadata": {},
   "source": [
    "### Define Wrapper Fxn for Simpson Method"
   ]
  },
  {
   "cell_type": "code",
   "execution_count": null,
   "metadata": {},
   "outputs": [],
   "source": [
    "# f == fxn to integrate\n",
    "# a == lower bound of integration\n",
    "# b == upper bound of integration\n",
    "# N == # of fxn evaluations to use\n",
    "def simpson_method(f, a, b, N):\n",
    "    \n",
    "    # Define x values on grid\n",
    "    x = np.linspace(a, b, N)\n",
    "    h = x[1] - x[0]\n",
    "    \n",
    "    # Define integral\n",
    "    Fint = 0.0\n",
    "    \n",
    "    # Perform integral \n",
    "    for i in range(0, len(x) - 2, 2):\n",
    "        Fint += simpson_core(f, x[i], h)\n",
    "        \n",
    "    # Apply Simpson method over last inetegral\n",
    "    if((N%2) == 0):\n",
    "        Fint += simpson_core(f, x[-2], 0.5*h)\n",
    "        \n",
    "    # Return answer\n",
    "    return Fint\n",
    "        \n",
    "    "
   ]
  },
  {
   "cell_type": "code",
   "execution_count": null,
   "metadata": {},
   "outputs": [],
   "source": [
    "print(simpson_method(func, 0, np.pi, 150))"
   ]
  },
  {
   "cell_type": "markdown",
   "metadata": {},
   "source": [
    "## Romberg Method"
   ]
  },
  {
   "cell_type": "markdown",
   "metadata": {},
   "source": [
    "### Define Romberg Core "
   ]
  },
  {
   "cell_type": "code",
   "execution_count": null,
   "metadata": {},
   "outputs": [],
   "source": [
    "def romberg_core(f, a, b, i):\n",
    "    \n",
    "    # Diff between a and b\n",
    "    h = b-a\n",
    "    \n",
    "    # Interval between fxn evaluations\n",
    "    dh = h/2.**(i)\n",
    "    \n",
    "    # Cofactor\n",
    "    K = h/2.**(i+1)\n",
    "    \n",
    "    # Fxn evaluations\n",
    "    M = 0.0\n",
    "    for j in range(2**i):\n",
    "        M += f(a + 0.5*dh + j*dh)\n",
    "        \n",
    "    # Return answer\n",
    "    return K*M"
   ]
  },
  {
   "cell_type": "markdown",
   "metadata": {},
   "source": [
    "### Wrapper Fxn to Perform Romberg Method"
   ]
  },
  {
   "cell_type": "code",
   "execution_count": null,
   "metadata": {},
   "outputs": [],
   "source": [
    "def romberg_integration(f, a, b, tol):\n",
    "    \n",
    "    # Define iteration variable\n",
    "    i = 0\n",
    "    \n",
    "    # Definition of max iterations\n",
    "    imax = 10000\n",
    "    \n",
    "    # Error estimate set to large value\n",
    "    delta = 100*np.fabs(tol)\n",
    "    \n",
    "    # Array of integral results\n",
    "    I = np.zeros(imax, dtype=float)\n",
    "    \n",
    "    # Zeroth Romberg iteration\n",
    "    I[0] = 0.5*(b-a)*(f(a)+f(b))\n",
    "    \n",
    "    # Iterate by i\n",
    "    i += 1\n",
    "    \n",
    "    while(delta>tol):\n",
    "        \n",
    "        # Find this Romberg iteration \n",
    "        I[i] = 0.5*I[i-1] + romberg_core(f, a, b, i)\n",
    "        \n",
    "        # Find new fractional error estimate\n",
    "        delta = np.fabs((I[i]-I[i-1])/I[i])\n",
    "        print(i,I[i],I[i-1],delta)\n",
    "        \n",
    "        if(delta>tol):\n",
    "            \n",
    "            # Iterate\n",
    "            i += 1\n",
    "            \n",
    "            # If max # of iterations reached\n",
    "            if(i>imax):\n",
    "                \n",
    "                print(\"Max number of iterations reached\")\n",
    "                raise StopIteration('Stopping iterations after ',i)\n",
    "                \n",
    "    \n",
    "    # Return answer\n",
    "    return I[i]\n",
    "                "
   ]
  },
  {
   "cell_type": "code",
   "execution_count": null,
   "metadata": {},
   "outputs": [],
   "source": [
    "print(\"Romberg result\")\n",
    "tolerance = 1.0e-6\n",
    "RI = romberg_integration(func, 0, np.pi, tolerance)\n",
    "print(RI)"
   ]
  },
  {
   "cell_type": "markdown",
   "metadata": {},
   "source": [
    "## Trapezoid Method took 3400 iterations; Simpsons Method took 150 iterations; Romberg took 26 iterations."
   ]
  },
  {
   "cell_type": "code",
   "execution_count": null,
   "metadata": {},
   "outputs": [],
   "source": []
  }
 ],
 "metadata": {
  "kernelspec": {
   "display_name": "Python 3",
   "language": "python",
   "name": "python3"
  },
  "language_info": {
   "codemirror_mode": {
    "name": "ipython",
    "version": 3
   },
   "file_extension": ".py",
   "mimetype": "text/x-python",
   "name": "python",
   "nbconvert_exporter": "python",
   "pygments_lexer": "ipython3",
   "version": "3.8.5"
  }
 },
 "nbformat": 4,
 "nbformat_minor": 4
}
